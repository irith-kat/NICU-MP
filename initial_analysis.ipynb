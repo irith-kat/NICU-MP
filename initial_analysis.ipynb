{
 "cells": [
  {
   "cell_type": "code",
   "execution_count": 3,
   "id": "e8b6803c-0ea4-49da-82fc-068553eb7156",
   "metadata": {},
   "outputs": [],
   "source": [
    "import pandas as pd"
   ]
  },
  {
   "cell_type": "code",
   "execution_count": 80,
   "id": "c3c8245c-b47d-482b-b7cc-1bb890820e68",
   "metadata": {},
   "outputs": [],
   "source": [
    "data_dir = 'data/mimic-iv-1.0/physionet.org/files/mimiciv/1.0/'\n",
    "core = data_dir+'core/' \n",
    "hosp = data_dir+'hosp/'\n",
    "icu = data_dir+'icu/'"
   ]
  },
  {
   "cell_type": "code",
   "execution_count": 81,
   "id": "afcb08dd-b2e5-4b31-b471-2a652c12b6a9",
   "metadata": {},
   "outputs": [],
   "source": [
    "patients = pd.read_csv(core+'patients.csv')\n",
    "admissions = pd.read_csv(core+'admissions.csv')\n",
    "transfers = pd.read_csv(core+'transfers.csv')\n",
    "drgs = pd.read_csv(hosp+'drgcodes.csv')"
   ]
  },
  {
   "cell_type": "code",
   "execution_count": 106,
   "id": "bffcc63b-632b-4238-8385-ec90a7e84baf",
   "metadata": {},
   "outputs": [
    {
     "name": "stdout",
     "output_type": "stream",
     "text": [
      "Total neonates: 60872\n"
     ]
    },
    {
     "data": {
      "text/html": [
       "<div>\n",
       "<style scoped>\n",
       "    .dataframe tbody tr th:only-of-type {\n",
       "        vertical-align: middle;\n",
       "    }\n",
       "\n",
       "    .dataframe tbody tr th {\n",
       "        vertical-align: top;\n",
       "    }\n",
       "\n",
       "    .dataframe thead th {\n",
       "        text-align: right;\n",
       "    }\n",
       "</style>\n",
       "<table border=\"1\" class=\"dataframe\">\n",
       "  <thead>\n",
       "    <tr style=\"text-align: right;\">\n",
       "      <th></th>\n",
       "      <th>subject_id</th>\n",
       "      <th>hadm_id</th>\n",
       "      <th>admittime</th>\n",
       "      <th>dischtime</th>\n",
       "      <th>deathtime</th>\n",
       "      <th>admission_type</th>\n",
       "      <th>admission_location</th>\n",
       "      <th>discharge_location</th>\n",
       "      <th>insurance</th>\n",
       "      <th>language</th>\n",
       "      <th>marital_status</th>\n",
       "      <th>ethnicity</th>\n",
       "      <th>edregtime</th>\n",
       "      <th>edouttime</th>\n",
       "      <th>hospital_expire_flag</th>\n",
       "    </tr>\n",
       "  </thead>\n",
       "  <tbody>\n",
       "    <tr>\n",
       "      <th>0</th>\n",
       "      <td>14679932</td>\n",
       "      <td>21038362</td>\n",
       "      <td>2139-09-26 14:16:00</td>\n",
       "      <td>2139-09-28 11:30:00</td>\n",
       "      <td>NaN</td>\n",
       "      <td>ELECTIVE</td>\n",
       "      <td>NaN</td>\n",
       "      <td>HOME</td>\n",
       "      <td>Other</td>\n",
       "      <td>ENGLISH</td>\n",
       "      <td>SINGLE</td>\n",
       "      <td>UNKNOWN</td>\n",
       "      <td>NaN</td>\n",
       "      <td>NaN</td>\n",
       "      <td>0</td>\n",
       "    </tr>\n",
       "    <tr>\n",
       "      <th>1</th>\n",
       "      <td>15585972</td>\n",
       "      <td>24941086</td>\n",
       "      <td>2123-10-07 23:56:00</td>\n",
       "      <td>2123-10-12 11:22:00</td>\n",
       "      <td>NaN</td>\n",
       "      <td>ELECTIVE</td>\n",
       "      <td>NaN</td>\n",
       "      <td>HOME</td>\n",
       "      <td>Other</td>\n",
       "      <td>ENGLISH</td>\n",
       "      <td>NaN</td>\n",
       "      <td>WHITE</td>\n",
       "      <td>NaN</td>\n",
       "      <td>NaN</td>\n",
       "      <td>0</td>\n",
       "    </tr>\n",
       "    <tr>\n",
       "      <th>2</th>\n",
       "      <td>11989120</td>\n",
       "      <td>21965160</td>\n",
       "      <td>2147-01-14 09:00:00</td>\n",
       "      <td>2147-01-17 14:25:00</td>\n",
       "      <td>NaN</td>\n",
       "      <td>ELECTIVE</td>\n",
       "      <td>NaN</td>\n",
       "      <td>HOME</td>\n",
       "      <td>Other</td>\n",
       "      <td>ENGLISH</td>\n",
       "      <td>NaN</td>\n",
       "      <td>UNKNOWN</td>\n",
       "      <td>NaN</td>\n",
       "      <td>NaN</td>\n",
       "      <td>0</td>\n",
       "    </tr>\n",
       "    <tr>\n",
       "      <th>3</th>\n",
       "      <td>17817079</td>\n",
       "      <td>24709883</td>\n",
       "      <td>2165-12-27 17:33:00</td>\n",
       "      <td>2165-12-31 21:18:00</td>\n",
       "      <td>NaN</td>\n",
       "      <td>ELECTIVE</td>\n",
       "      <td>NaN</td>\n",
       "      <td>HOME</td>\n",
       "      <td>Other</td>\n",
       "      <td>ENGLISH</td>\n",
       "      <td>NaN</td>\n",
       "      <td>OTHER</td>\n",
       "      <td>NaN</td>\n",
       "      <td>NaN</td>\n",
       "      <td>0</td>\n",
       "    </tr>\n",
       "    <tr>\n",
       "      <th>4</th>\n",
       "      <td>15078341</td>\n",
       "      <td>23272159</td>\n",
       "      <td>2122-08-28 08:48:00</td>\n",
       "      <td>2122-08-30 12:32:00</td>\n",
       "      <td>NaN</td>\n",
       "      <td>ELECTIVE</td>\n",
       "      <td>NaN</td>\n",
       "      <td>HOME</td>\n",
       "      <td>Other</td>\n",
       "      <td>ENGLISH</td>\n",
       "      <td>NaN</td>\n",
       "      <td>BLACK/AFRICAN AMERICAN</td>\n",
       "      <td>NaN</td>\n",
       "      <td>NaN</td>\n",
       "      <td>0</td>\n",
       "    </tr>\n",
       "  </tbody>\n",
       "</table>\n",
       "</div>"
      ],
      "text/plain": [
       "   subject_id   hadm_id            admittime            dischtime deathtime  \\\n",
       "0    14679932  21038362  2139-09-26 14:16:00  2139-09-28 11:30:00       NaN   \n",
       "1    15585972  24941086  2123-10-07 23:56:00  2123-10-12 11:22:00       NaN   \n",
       "2    11989120  21965160  2147-01-14 09:00:00  2147-01-17 14:25:00       NaN   \n",
       "3    17817079  24709883  2165-12-27 17:33:00  2165-12-31 21:18:00       NaN   \n",
       "4    15078341  23272159  2122-08-28 08:48:00  2122-08-30 12:32:00       NaN   \n",
       "\n",
       "  admission_type admission_location discharge_location insurance language  \\\n",
       "0       ELECTIVE                NaN               HOME     Other  ENGLISH   \n",
       "1       ELECTIVE                NaN               HOME     Other  ENGLISH   \n",
       "2       ELECTIVE                NaN               HOME     Other  ENGLISH   \n",
       "3       ELECTIVE                NaN               HOME     Other  ENGLISH   \n",
       "4       ELECTIVE                NaN               HOME     Other  ENGLISH   \n",
       "\n",
       "  marital_status               ethnicity edregtime edouttime  \\\n",
       "0         SINGLE                 UNKNOWN       NaN       NaN   \n",
       "1            NaN                   WHITE       NaN       NaN   \n",
       "2            NaN                 UNKNOWN       NaN       NaN   \n",
       "3            NaN                   OTHER       NaN       NaN   \n",
       "4            NaN  BLACK/AFRICAN AMERICAN       NaN       NaN   \n",
       "\n",
       "   hospital_expire_flag  \n",
       "0                     0  \n",
       "1                     0  \n",
       "2                     0  \n",
       "3                     0  \n",
       "4                     0  "
      ]
     },
     "execution_count": 106,
     "metadata": {},
     "output_type": "execute_result"
    }
   ],
   "source": [
    "neonates = patients[patients['anchor_age'] == 0].copy()\n",
    "print(f\"Total neonates: {len(neonates)}\")"
   ]
  },
  {
   "cell_type": "code",
   "execution_count": 98,
   "id": "718a6c24-cb82-45a6-ac6d-38fd71435e39",
   "metadata": {},
   "outputs": [
    {
     "name": "stdout",
     "output_type": "stream",
     "text": [
      "Neonates with NICU transfers: 7758\n"
     ]
    }
   ],
   "source": [
    "nicu_transfers = transfers[transfers['careunit'] == 'Neonatal Intensive Care Unit (NICU)']\n",
    "neonates_nicu = pd.merge(neonates, nicu_transfers, on='subject_id', how='inner')\n",
    "neonates_nicu = neonates_nicu[neonates_nicu['eventtype'] == 'admit']\n",
    "print(f\"Neonates with NICU transfers: {len(neonates_nicu)}\")"
   ]
  },
  {
   "cell_type": "code",
   "execution_count": 99,
   "id": "d2968440-9cee-4f27-9fdb-c1709ad9bd2d",
   "metadata": {},
   "outputs": [
    {
     "data": {
      "text/html": [
       "<div>\n",
       "<style scoped>\n",
       "    .dataframe tbody tr th:only-of-type {\n",
       "        vertical-align: middle;\n",
       "    }\n",
       "\n",
       "    .dataframe tbody tr th {\n",
       "        vertical-align: top;\n",
       "    }\n",
       "\n",
       "    .dataframe thead th {\n",
       "        text-align: right;\n",
       "    }\n",
       "</style>\n",
       "<table border=\"1\" class=\"dataframe\">\n",
       "  <thead>\n",
       "    <tr style=\"text-align: right;\">\n",
       "      <th></th>\n",
       "      <th>subject_id</th>\n",
       "      <th>gender</th>\n",
       "      <th>anchor_age</th>\n",
       "      <th>anchor_year</th>\n",
       "      <th>anchor_year_group</th>\n",
       "      <th>dod</th>\n",
       "      <th>hadm_id</th>\n",
       "      <th>transfer_id</th>\n",
       "      <th>eventtype</th>\n",
       "      <th>careunit</th>\n",
       "      <th>intime</th>\n",
       "      <th>outtime</th>\n",
       "    </tr>\n",
       "  </thead>\n",
       "  <tbody>\n",
       "    <tr>\n",
       "      <th>0</th>\n",
       "      <td>10005325</td>\n",
       "      <td>F</td>\n",
       "      <td>0</td>\n",
       "      <td>2154</td>\n",
       "      <td>2011 - 2013</td>\n",
       "      <td>NaN</td>\n",
       "      <td>20047480.0</td>\n",
       "      <td>39663534</td>\n",
       "      <td>admit</td>\n",
       "      <td>Neonatal Intensive Care Unit (NICU)</td>\n",
       "      <td>2154-12-15 14:23:12</td>\n",
       "      <td>2154-12-15 14:28:49</td>\n",
       "    </tr>\n",
       "    <tr>\n",
       "      <th>3</th>\n",
       "      <td>10008101</td>\n",
       "      <td>M</td>\n",
       "      <td>0</td>\n",
       "      <td>2142</td>\n",
       "      <td>2008 - 2010</td>\n",
       "      <td>NaN</td>\n",
       "      <td>29646360.0</td>\n",
       "      <td>33581740</td>\n",
       "      <td>admit</td>\n",
       "      <td>Neonatal Intensive Care Unit (NICU)</td>\n",
       "      <td>2142-12-26 21:20:39</td>\n",
       "      <td>2142-12-26 22:47:01</td>\n",
       "    </tr>\n",
       "    <tr>\n",
       "      <th>5</th>\n",
       "      <td>10012663</td>\n",
       "      <td>F</td>\n",
       "      <td>0</td>\n",
       "      <td>2171</td>\n",
       "      <td>2011 - 2013</td>\n",
       "      <td>NaN</td>\n",
       "      <td>27340067.0</td>\n",
       "      <td>39415613</td>\n",
       "      <td>admit</td>\n",
       "      <td>Neonatal Intensive Care Unit (NICU)</td>\n",
       "      <td>2171-05-18 11:05:04</td>\n",
       "      <td>2171-05-18 11:14:30</td>\n",
       "    </tr>\n",
       "    <tr>\n",
       "      <th>9</th>\n",
       "      <td>10014536</td>\n",
       "      <td>F</td>\n",
       "      <td>0</td>\n",
       "      <td>2113</td>\n",
       "      <td>2008 - 2010</td>\n",
       "      <td>NaN</td>\n",
       "      <td>24693529.0</td>\n",
       "      <td>37628162</td>\n",
       "      <td>admit</td>\n",
       "      <td>Neonatal Intensive Care Unit (NICU)</td>\n",
       "      <td>2113-12-19 18:19:41</td>\n",
       "      <td>2113-12-19 18:23:09</td>\n",
       "    </tr>\n",
       "    <tr>\n",
       "      <th>19</th>\n",
       "      <td>10025785</td>\n",
       "      <td>F</td>\n",
       "      <td>0</td>\n",
       "      <td>2155</td>\n",
       "      <td>2008 - 2010</td>\n",
       "      <td>NaN</td>\n",
       "      <td>27677536.0</td>\n",
       "      <td>36967998</td>\n",
       "      <td>admit</td>\n",
       "      <td>Neonatal Intensive Care Unit (NICU)</td>\n",
       "      <td>2155-06-14 18:58:56</td>\n",
       "      <td>2155-06-14 19:00:26</td>\n",
       "    </tr>\n",
       "  </tbody>\n",
       "</table>\n",
       "</div>"
      ],
      "text/plain": [
       "    subject_id gender  anchor_age  anchor_year anchor_year_group  dod  \\\n",
       "0     10005325      F           0         2154       2011 - 2013  NaN   \n",
       "3     10008101      M           0         2142       2008 - 2010  NaN   \n",
       "5     10012663      F           0         2171       2011 - 2013  NaN   \n",
       "9     10014536      F           0         2113       2008 - 2010  NaN   \n",
       "19    10025785      F           0         2155       2008 - 2010  NaN   \n",
       "\n",
       "       hadm_id  transfer_id eventtype                             careunit  \\\n",
       "0   20047480.0     39663534     admit  Neonatal Intensive Care Unit (NICU)   \n",
       "3   29646360.0     33581740     admit  Neonatal Intensive Care Unit (NICU)   \n",
       "5   27340067.0     39415613     admit  Neonatal Intensive Care Unit (NICU)   \n",
       "9   24693529.0     37628162     admit  Neonatal Intensive Care Unit (NICU)   \n",
       "19  27677536.0     36967998     admit  Neonatal Intensive Care Unit (NICU)   \n",
       "\n",
       "                 intime              outtime  \n",
       "0   2154-12-15 14:23:12  2154-12-15 14:28:49  \n",
       "3   2142-12-26 21:20:39  2142-12-26 22:47:01  \n",
       "5   2171-05-18 11:05:04  2171-05-18 11:14:30  \n",
       "9   2113-12-19 18:19:41  2113-12-19 18:23:09  \n",
       "19  2155-06-14 18:58:56  2155-06-14 19:00:26  "
      ]
     },
     "execution_count": 99,
     "metadata": {},
     "output_type": "execute_result"
    }
   ],
   "source": [
    "neonates_nicu.head()"
   ]
  },
  {
   "cell_type": "code",
   "execution_count": 100,
   "id": "36504c4c-b1bb-4e93-8164-fe209d7ab4d3",
   "metadata": {},
   "outputs": [
    {
     "name": "stdout",
     "output_type": "stream",
     "text": [
      "Premature neonates: 1958\n"
     ]
    }
   ],
   "source": [
    "premature_drg_codes = [791, 792]\n",
    "drg_premature = drgs[drgs['drg_code'].isin(premature_drg_codes)]\n",
    "premature_neonates = pd.merge(neonates_nicu, drg_premature, on=['subject_id','hadm_id'], how='inner')\n",
    "print(f\"Premature neonates: {len(premature_neonates)}\")"
   ]
  },
  {
   "cell_type": "code",
   "execution_count": 101,
   "id": "165aaa25-011c-4264-8029-4e8e33941948",
   "metadata": {},
   "outputs": [],
   "source": [
    "neonates_mortality = pd.merge(\n",
    "    premature_neonates,\n",
    "    admissions[['subject_id','hadm_id','hospital_expire_flag']],\n",
    "    on=['subject_id','hadm_id'],\n",
    "    how='left'\n",
    ")"
   ]
  },
  {
   "cell_type": "code",
   "execution_count": 102,
   "id": "fc296861-c326-4a34-bf64-92b6b9d76e4a",
   "metadata": {},
   "outputs": [
    {
     "data": {
      "text/plain": [
       "hospital_expire_flag\n",
       "0    1958\n",
       "Name: count, dtype: int64"
      ]
     },
     "execution_count": 102,
     "metadata": {},
     "output_type": "execute_result"
    }
   ],
   "source": [
    "neonates_mortality['hospital_expire_flag'].value_counts()"
   ]
  },
  {
   "cell_type": "code",
   "execution_count": 103,
   "id": "bbe5dc41-bf61-43aa-a5fb-d65dac998828",
   "metadata": {},
   "outputs": [
    {
     "data": {
      "text/plain": [
       "np.int64(1958)"
      ]
     },
     "execution_count": 103,
     "metadata": {},
     "output_type": "execute_result"
    }
   ],
   "source": [
    "neonates_mortality['dod'].isnull().sum()"
   ]
  },
  {
   "cell_type": "code",
   "execution_count": 104,
   "id": "32b2bd22-ada0-4b8a-bf8a-dc6669022bb3",
   "metadata": {},
   "outputs": [
    {
     "data": {
      "text/plain": [
       "np.int64(0)"
      ]
     },
     "execution_count": 104,
     "metadata": {},
     "output_type": "execute_result"
    }
   ],
   "source": [
    "len(neonates_mortality['dod']) - neonates_mortality['dod'].isnull().sum()"
   ]
  },
  {
   "cell_type": "code",
   "execution_count": 118,
   "id": "53521193-d8d6-4095-a876-65f4427cd37e",
   "metadata": {},
   "outputs": [
    {
     "name": "stdout",
     "output_type": "stream",
     "text": [
      "Premature admissions: 2019\n"
     ]
    }
   ],
   "source": [
    "neonates_admissions = pd.merge(\n",
    "    admissions,\n",
    "    premature_neonates,\n",
    "    on=['subject_id'],\n",
    "    how='inner'\n",
    ")\n",
    "print(f\"Premature admissions: {len(neonates_admissions)}\")"
   ]
  }
 ],
 "metadata": {
  "kernelspec": {
   "display_name": "Python 3 (ipykernel)",
   "language": "python",
   "name": "python3"
  },
  "language_info": {
   "codemirror_mode": {
    "name": "ipython",
    "version": 3
   },
   "file_extension": ".py",
   "mimetype": "text/x-python",
   "name": "python",
   "nbconvert_exporter": "python",
   "pygments_lexer": "ipython3",
   "version": "3.13.7"
  }
 },
 "nbformat": 4,
 "nbformat_minor": 5
}
