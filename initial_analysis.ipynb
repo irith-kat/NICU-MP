{
 "cells": [
  {
   "cell_type": "code",
   "execution_count": 1,
   "id": "e8b6803c-0ea4-49da-82fc-068553eb7156",
   "metadata": {},
   "outputs": [],
   "source": [
    "import pandas as pd\n",
    "import numpy as np\n",
    "import dask.dataframe as dd\n",
    "import matplotlib.pyplot as plt"
   ]
  },
  {
   "cell_type": "code",
   "execution_count": 2,
   "id": "c3c8245c-b47d-482b-b7cc-1bb890820e68",
   "metadata": {},
   "outputs": [],
   "source": [
    "data_dir = 'data/mimic-iv-1.0/physionet.org/files/mimiciv/1.0/'\n",
    "core = data_dir+'core/' \n",
    "hosp = data_dir+'hosp/'\n",
    "icu = data_dir+'icu/'"
   ]
  },
  {
   "cell_type": "code",
   "execution_count": 3,
   "id": "afcb08dd-b2e5-4b31-b471-2a652c12b6a9",
   "metadata": {},
   "outputs": [],
   "source": [
    "patients = pd.read_csv(core+'patients.csv')\n",
    "admissions = pd.read_csv(core+'admissions.csv')\n",
    "transfers = pd.read_csv(core+'transfers.csv')\n",
    "icd = pd.read_csv(hosp+'d_icd_diagnoses.csv')\n",
    "diagnoses_icd = pd.read_csv(hosp+'diagnoses_icd.csv')"
   ]
  },
  {
   "cell_type": "code",
   "execution_count": 4,
   "id": "5f8c546d-eaf3-4d26-b4e3-5c8b44320b70",
   "metadata": {},
   "outputs": [],
   "source": [
    "labs_dtype = {\n",
    "    \"labevent_id\": \"Int64\",\n",
    "    \"subject_id\": \"Int64\",\n",
    "    \"hadm_id\": \"Int64\",\n",
    "    \"specimen_id\": \"Int64\",\n",
    "    \"itemid\": \"Int64\",\n",
    "    \"order_provider_id\": \"string\",\n",
    "    \"value\": \"string\",\n",
    "    \"valuenum\": \"float64\",\n",
    "    \"valueuom\": \"string\",\n",
    "    \"ref_range_lower\": \"float64\",\n",
    "    \"ref_range_upper\": \"float64\",\n",
    "    \"flag\": \"string\",\n",
    "    \"priority\": \"string\",\n",
    "    \"comments\": \"string\"\n",
    "}"
   ]
  },
  {
   "cell_type": "code",
   "execution_count": 6,
   "id": "75e0bad8-0671-4fc3-a323-e6ccdf96a67c",
   "metadata": {},
   "outputs": [],
   "source": [
    "labs = dd.read_csv(hosp+'labevents.csv', dtype=labs_dtype, parse_dates=[\"charttime\", \"storetime\"])"
   ]
  },
  {
   "cell_type": "code",
   "execution_count": 7,
   "id": "b5539481-c66a-4c35-b3ad-c18b5b432a07",
   "metadata": {},
   "outputs": [
    {
     "data": {
      "text/html": [
       "<div>\n",
       "<style scoped>\n",
       "    .dataframe tbody tr th:only-of-type {\n",
       "        vertical-align: middle;\n",
       "    }\n",
       "\n",
       "    .dataframe tbody tr th {\n",
       "        vertical-align: top;\n",
       "    }\n",
       "\n",
       "    .dataframe thead th {\n",
       "        text-align: right;\n",
       "    }\n",
       "</style>\n",
       "<table border=\"1\" class=\"dataframe\">\n",
       "  <thead>\n",
       "    <tr style=\"text-align: right;\">\n",
       "      <th></th>\n",
       "      <th>labevent_id</th>\n",
       "      <th>subject_id</th>\n",
       "      <th>hadm_id</th>\n",
       "      <th>specimen_id</th>\n",
       "      <th>itemid</th>\n",
       "      <th>charttime</th>\n",
       "      <th>storetime</th>\n",
       "      <th>value</th>\n",
       "      <th>valuenum</th>\n",
       "      <th>valueuom</th>\n",
       "      <th>ref_range_lower</th>\n",
       "      <th>ref_range_upper</th>\n",
       "      <th>flag</th>\n",
       "      <th>priority</th>\n",
       "      <th>comments</th>\n",
       "    </tr>\n",
       "  </thead>\n",
       "  <tbody>\n",
       "    <tr>\n",
       "      <th>0</th>\n",
       "      <td>670</td>\n",
       "      <td>10000048</td>\n",
       "      <td>&lt;NA&gt;</td>\n",
       "      <td>6448755</td>\n",
       "      <td>51484</td>\n",
       "      <td>2126-11-22 19:20:00</td>\n",
       "      <td>2126-11-22 20:07:00</td>\n",
       "      <td>150</td>\n",
       "      <td>150.000</td>\n",
       "      <td>mg/dL</td>\n",
       "      <td>NaN</td>\n",
       "      <td>NaN</td>\n",
       "      <td>&lt;NA&gt;</td>\n",
       "      <td>STAT</td>\n",
       "      <td>&lt;NA&gt;</td>\n",
       "    </tr>\n",
       "    <tr>\n",
       "      <th>1</th>\n",
       "      <td>673</td>\n",
       "      <td>10000048</td>\n",
       "      <td>&lt;NA&gt;</td>\n",
       "      <td>6448755</td>\n",
       "      <td>51491</td>\n",
       "      <td>2126-11-22 19:20:00</td>\n",
       "      <td>2126-11-22 20:07:00</td>\n",
       "      <td>6.5</td>\n",
       "      <td>6.500</td>\n",
       "      <td>units</td>\n",
       "      <td>5.000</td>\n",
       "      <td>8.000</td>\n",
       "      <td>&lt;NA&gt;</td>\n",
       "      <td>STAT</td>\n",
       "      <td>&lt;NA&gt;</td>\n",
       "    </tr>\n",
       "    <tr>\n",
       "      <th>2</th>\n",
       "      <td>675</td>\n",
       "      <td>10000048</td>\n",
       "      <td>&lt;NA&gt;</td>\n",
       "      <td>6448755</td>\n",
       "      <td>51498</td>\n",
       "      <td>2126-11-22 19:20:00</td>\n",
       "      <td>2126-11-22 20:07:00</td>\n",
       "      <td>1.029</td>\n",
       "      <td>1.029</td>\n",
       "      <td></td>\n",
       "      <td>1.001</td>\n",
       "      <td>1.035</td>\n",
       "      <td>&lt;NA&gt;</td>\n",
       "      <td>STAT</td>\n",
       "      <td>&lt;NA&gt;</td>\n",
       "    </tr>\n",
       "    <tr>\n",
       "      <th>3</th>\n",
       "      <td>683</td>\n",
       "      <td>10000048</td>\n",
       "      <td>&lt;NA&gt;</td>\n",
       "      <td>82729055</td>\n",
       "      <td>50861</td>\n",
       "      <td>2126-11-22 20:45:00</td>\n",
       "      <td>2126-11-23 00:55:00</td>\n",
       "      <td>39</td>\n",
       "      <td>39.000</td>\n",
       "      <td>IU/L</td>\n",
       "      <td>0.000</td>\n",
       "      <td>40.000</td>\n",
       "      <td>&lt;NA&gt;</td>\n",
       "      <td>STAT</td>\n",
       "      <td>&lt;NA&gt;</td>\n",
       "    </tr>\n",
       "    <tr>\n",
       "      <th>4</th>\n",
       "      <td>684</td>\n",
       "      <td>10000048</td>\n",
       "      <td>&lt;NA&gt;</td>\n",
       "      <td>82729055</td>\n",
       "      <td>50862</td>\n",
       "      <td>2126-11-22 20:45:00</td>\n",
       "      <td>2126-11-23 00:55:00</td>\n",
       "      <td>4.7</td>\n",
       "      <td>4.700</td>\n",
       "      <td>g/dL</td>\n",
       "      <td>3.400</td>\n",
       "      <td>4.800</td>\n",
       "      <td>&lt;NA&gt;</td>\n",
       "      <td>STAT</td>\n",
       "      <td>&lt;NA&gt;</td>\n",
       "    </tr>\n",
       "  </tbody>\n",
       "</table>\n",
       "</div>"
      ],
      "text/plain": [
       "   labevent_id  subject_id  hadm_id  specimen_id  itemid           charttime  \\\n",
       "0          670    10000048     <NA>      6448755   51484 2126-11-22 19:20:00   \n",
       "1          673    10000048     <NA>      6448755   51491 2126-11-22 19:20:00   \n",
       "2          675    10000048     <NA>      6448755   51498 2126-11-22 19:20:00   \n",
       "3          683    10000048     <NA>     82729055   50861 2126-11-22 20:45:00   \n",
       "4          684    10000048     <NA>     82729055   50862 2126-11-22 20:45:00   \n",
       "\n",
       "            storetime  value  valuenum valueuom  ref_range_lower  \\\n",
       "0 2126-11-22 20:07:00    150   150.000    mg/dL              NaN   \n",
       "1 2126-11-22 20:07:00    6.5     6.500    units            5.000   \n",
       "2 2126-11-22 20:07:00  1.029     1.029                     1.001   \n",
       "3 2126-11-23 00:55:00     39    39.000     IU/L            0.000   \n",
       "4 2126-11-23 00:55:00    4.7     4.700     g/dL            3.400   \n",
       "\n",
       "   ref_range_upper  flag priority comments  \n",
       "0              NaN  <NA>     STAT     <NA>  \n",
       "1            8.000  <NA>     STAT     <NA>  \n",
       "2            1.035  <NA>     STAT     <NA>  \n",
       "3           40.000  <NA>     STAT     <NA>  \n",
       "4            4.800  <NA>     STAT     <NA>  "
      ]
     },
     "execution_count": 7,
     "metadata": {},
     "output_type": "execute_result"
    }
   ],
   "source": [
    "labs.head()"
   ]
  },
  {
   "cell_type": "code",
   "execution_count": 8,
   "id": "bffcc63b-632b-4238-8385-ec90a7e84baf",
   "metadata": {},
   "outputs": [
    {
     "data": {
      "text/plain": [
       "60872"
      ]
     },
     "execution_count": 8,
     "metadata": {},
     "output_type": "execute_result"
    }
   ],
   "source": [
    "neonatal_patients = patients[patients['anchor_age'] == 0]\n",
    "len(neonatal_patients)"
   ]
  },
  {
   "cell_type": "code",
   "execution_count": 9,
   "id": "30431dfe-894e-4ac3-99be-e8021b2c33f7",
   "metadata": {},
   "outputs": [
    {
     "data": {
      "text/html": [
       "<div>\n",
       "<style scoped>\n",
       "    .dataframe tbody tr th:only-of-type {\n",
       "        vertical-align: middle;\n",
       "    }\n",
       "\n",
       "    .dataframe tbody tr th {\n",
       "        vertical-align: top;\n",
       "    }\n",
       "\n",
       "    .dataframe thead th {\n",
       "        text-align: right;\n",
       "    }\n",
       "</style>\n",
       "<table border=\"1\" class=\"dataframe\">\n",
       "  <thead>\n",
       "    <tr style=\"text-align: right;\">\n",
       "      <th></th>\n",
       "      <th>subject_id</th>\n",
       "      <th>hadm_id</th>\n",
       "      <th>seq_num</th>\n",
       "      <th>icd_code</th>\n",
       "      <th>icd_version</th>\n",
       "      <th>long_title</th>\n",
       "    </tr>\n",
       "  </thead>\n",
       "  <tbody>\n",
       "    <tr>\n",
       "      <th>0</th>\n",
       "      <td>15734973</td>\n",
       "      <td>20475282</td>\n",
       "      <td>3</td>\n",
       "      <td>2825</td>\n",
       "      <td>9</td>\n",
       "      <td>Sickle-cell trait</td>\n",
       "    </tr>\n",
       "    <tr>\n",
       "      <th>1</th>\n",
       "      <td>15734973</td>\n",
       "      <td>20475282</td>\n",
       "      <td>2</td>\n",
       "      <td>V0251</td>\n",
       "      <td>9</td>\n",
       "      <td>Carrier or suspected carrier of group B strept...</td>\n",
       "    </tr>\n",
       "    <tr>\n",
       "      <th>2</th>\n",
       "      <td>15734973</td>\n",
       "      <td>20475282</td>\n",
       "      <td>5</td>\n",
       "      <td>V270</td>\n",
       "      <td>9</td>\n",
       "      <td>Outcome of delivery, single liveborn</td>\n",
       "    </tr>\n",
       "    <tr>\n",
       "      <th>3</th>\n",
       "      <td>15734973</td>\n",
       "      <td>20475282</td>\n",
       "      <td>1</td>\n",
       "      <td>64891</td>\n",
       "      <td>9</td>\n",
       "      <td>Other current conditions classifiable elsewher...</td>\n",
       "    </tr>\n",
       "    <tr>\n",
       "      <th>4</th>\n",
       "      <td>15734973</td>\n",
       "      <td>20475282</td>\n",
       "      <td>4</td>\n",
       "      <td>66481</td>\n",
       "      <td>9</td>\n",
       "      <td>Other specified trauma to perineum and vulva, ...</td>\n",
       "    </tr>\n",
       "  </tbody>\n",
       "</table>\n",
       "</div>"
      ],
      "text/plain": [
       "   subject_id   hadm_id  seq_num icd_code  icd_version  \\\n",
       "0    15734973  20475282        3     2825            9   \n",
       "1    15734973  20475282        2    V0251            9   \n",
       "2    15734973  20475282        5     V270            9   \n",
       "3    15734973  20475282        1    64891            9   \n",
       "4    15734973  20475282        4    66481            9   \n",
       "\n",
       "                                          long_title  \n",
       "0                                  Sickle-cell trait  \n",
       "1  Carrier or suspected carrier of group B strept...  \n",
       "2               Outcome of delivery, single liveborn  \n",
       "3  Other current conditions classifiable elsewher...  \n",
       "4  Other specified trauma to perineum and vulva, ...  "
      ]
     },
     "execution_count": 9,
     "metadata": {},
     "output_type": "execute_result"
    }
   ],
   "source": [
    "diagnoses = diagnoses_icd.merge(icd, on=['icd_code', 'icd_version'], how='inner')\n",
    "diagnoses.head()"
   ]
  },
  {
   "cell_type": "code",
   "execution_count": 10,
   "id": "98d6766e-2578-45e8-9cf4-0c88ed2d6c2b",
   "metadata": {},
   "outputs": [
    {
     "data": {
      "text/html": [
       "<div>\n",
       "<style scoped>\n",
       "    .dataframe tbody tr th:only-of-type {\n",
       "        vertical-align: middle;\n",
       "    }\n",
       "\n",
       "    .dataframe tbody tr th {\n",
       "        vertical-align: top;\n",
       "    }\n",
       "\n",
       "    .dataframe thead th {\n",
       "        text-align: right;\n",
       "    }\n",
       "</style>\n",
       "<table border=\"1\" class=\"dataframe\">\n",
       "  <thead>\n",
       "    <tr style=\"text-align: right;\">\n",
       "      <th></th>\n",
       "      <th>subject_id</th>\n",
       "      <th>hadm_id</th>\n",
       "      <th>seq_num</th>\n",
       "      <th>icd_code</th>\n",
       "      <th>icd_version</th>\n",
       "      <th>long_title</th>\n",
       "    </tr>\n",
       "  </thead>\n",
       "  <tbody>\n",
       "  </tbody>\n",
       "</table>\n",
       "</div>"
      ],
      "text/plain": [
       "Empty DataFrame\n",
       "Columns: [subject_id, hadm_id, seq_num, icd_code, icd_version, long_title]\n",
       "Index: []"
      ]
     },
     "execution_count": 10,
     "metadata": {},
     "output_type": "execute_result"
    }
   ],
   "source": [
    "diagnoses[diagnoses['icd_code'] == 76529]"
   ]
  },
  {
   "cell_type": "code",
   "execution_count": 55,
   "id": "1000a834-a120-4c5a-b001-3895b7b30991",
   "metadata": {},
   "outputs": [],
   "source": [
    "premature_diagnoses = diagnoses[((diagnoses['icd_code'].str.startswith('P07')) & (diagnoses['icd_version'] == 10)) | ((diagnoses['icd_code'].str.startswith('765')) & (diagnoses['icd_code'] != 76529) & (diagnoses['icd_version'] == 9))]"
   ]
  },
  {
   "cell_type": "code",
   "execution_count": 58,
   "id": "7011045a-6927-437a-99f1-44336dd35c57",
   "metadata": {},
   "outputs": [
    {
     "data": {
      "text/plain": [
       "8678"
      ]
     },
     "execution_count": 58,
     "metadata": {},
     "output_type": "execute_result"
    }
   ],
   "source": [
    "# Get subset of patients with subject_id in premature_diagnoses without duplicating patients\n",
    "premature_patients = neonatal_patients[neonatal_patients['subject_id'].isin(premature_diagnoses['subject_id'])]\n",
    "len(premature_patients)"
   ]
  },
  {
   "cell_type": "code",
   "execution_count": 60,
   "id": "911b4858-fb15-49f5-ba24-78f80b1b6fe5",
   "metadata": {},
   "outputs": [
    {
     "data": {
      "text/plain": [
       "hospital_expire_flag\n",
       "0    8490\n",
       "1     188\n",
       "Name: count, dtype: int64"
      ]
     },
     "execution_count": 60,
     "metadata": {},
     "output_type": "execute_result"
    }
   ],
   "source": [
    "premature_patients_admissions = premature_patients.merge(admissions, on=['subject_id'], how='inner')\n",
    "premature_patients_admissions = premature_patients_admissions.drop_duplicates(subset=['subject_id'])\n",
    "premature_patients_admissions['hospital_expire_flag'].value_counts()"
   ]
  },
  {
   "cell_type": "code",
   "execution_count": 61,
   "id": "17c42c56-4c75-4b2d-81ad-3ba5b28a3e32",
   "metadata": {},
   "outputs": [],
   "source": [
    "nicu_transfers = transfers[transfers['careunit'] == 'Neonatal Intensive Care Unit (NICU)']"
   ]
  },
  {
   "cell_type": "code",
   "execution_count": 62,
   "id": "b1a905aa-84a6-4a7e-9038-4117640ee06f",
   "metadata": {},
   "outputs": [
    {
     "data": {
      "text/plain": [
       "5897"
      ]
     },
     "execution_count": 62,
     "metadata": {},
     "output_type": "execute_result"
    }
   ],
   "source": [
    "premature_patients_nicu = premature_patients[premature_patients['subject_id'].isin(nicu_transfers['subject_id'])]\n",
    "len(premature_patients_nicu)"
   ]
  },
  {
   "cell_type": "code",
   "execution_count": 63,
   "id": "9b63d7ce-1cf4-490a-964e-89610cc30873",
   "metadata": {},
   "outputs": [
    {
     "data": {
      "text/plain": [
       "hospital_expire_flag\n",
       "0    5735\n",
       "1     162\n",
       "Name: count, dtype: int64"
      ]
     },
     "execution_count": 63,
     "metadata": {},
     "output_type": "execute_result"
    }
   ],
   "source": [
    "premature_patients_nicu_admissions = premature_patients_nicu.merge(admissions, on=['subject_id'], how='inner')\n",
    "premature_patients_nicu_admissions = premature_patients_nicu_admissions.drop_duplicates(subset=['subject_id'])\n",
    "premature_patients_nicu_admissions['hospital_expire_flag'].value_counts()"
   ]
  },
  {
   "cell_type": "code",
   "execution_count": 64,
   "id": "d5580e61-ef74-468f-ab11-52fab1797f0b",
   "metadata": {},
   "outputs": [],
   "source": [
    "premature_patients_nicu_transfers = premature_patients_nicu_admissions.merge(nicu_transfers, on=['subject_id', 'hadm_id'], how='inner')\n",
    "premature_patients_nicu_transfers['nicu_admit_diff'] = (pd.to_datetime(premature_patients_nicu_transfers['intime']) - pd.to_datetime(premature_patients_nicu_transfers['admittime'])).astype(int)/(10**9)/60/60"
   ]
  },
  {
   "cell_type": "code",
   "execution_count": 65,
   "id": "88b614d4-e75d-4f77-a3e5-5e6a416e3ae6",
   "metadata": {},
   "outputs": [],
   "source": [
    "premature_patients_nicu_transfers_filtered = premature_patients_nicu_transfers.loc[(premature_patients_nicu_transfers['nicu_admit_diff'] <= 24) & (premature_patients_nicu_transfers['nicu_admit_diff'] >= 0)]"
   ]
  },
  {
   "cell_type": "code",
   "execution_count": 66,
   "id": "5686deb9-fbd7-4e42-9c5a-d4b2181a090d",
   "metadata": {},
   "outputs": [
    {
     "data": {
      "text/plain": [
       "hospital_expire_flag\n",
       "0    5528\n",
       "1     160\n",
       "Name: count, dtype: int64"
      ]
     },
     "execution_count": 66,
     "metadata": {},
     "output_type": "execute_result"
    }
   ],
   "source": [
    "final_cohort = premature_patients_nicu_transfers_filtered.drop_duplicates(subset=['subject_id'])\n",
    "final_cohort['hospital_expire_flag'].value_counts()"
   ]
  },
  {
   "cell_type": "code",
   "execution_count": 72,
   "id": "3e41f044-2001-45bd-b1f6-cdaf13c0f9d0",
   "metadata": {},
   "outputs": [],
   "source": [
    "ga_map = {\n",
    "    10: {\n",
    "        'P0720': 'UNK',\n",
    "        'P0721': '<23',\n",
    "        'P0722': '23',\n",
    "        'P0723': '24',\n",
    "        'P0724': '25',\n",
    "        'P0725': '26',\n",
    "        'P0726': '27-28',\n",
    "        'P0730': 'UNK',\n",
    "        'P0731': '27-28',\n",
    "        'P0732': '29-30',\n",
    "        'P0733': '29-30',\n",
    "        'P0734': '31-32',\n",
    "        'P0735': '31-32',\n",
    "        'P0736': '33-34',\n",
    "        'P0737': '33-34',\n",
    "        'P0738': '35-36',\n",
    "        'P0739': '35-36',\n",
    "    },\n",
    "    9: {\n",
    "        '76520': 'UNK',\n",
    "        '76521': '<24',\n",
    "        '76522': '24',\n",
    "        '76523': '25-26',\n",
    "        '76524': '27-28',\n",
    "        '76525': '29-30',\n",
    "        '76526': '31-32',\n",
    "        '76527': '33-34',\n",
    "        '76528': '35-36',\n",
    "        '76529': '>36',\n",
    "    }\n",
    "}"
   ]
  },
  {
   "cell_type": "code",
   "execution_count": 71,
   "id": "ad7bd19e-ba71-4cca-8418-38bc77b3c8e8",
   "metadata": {},
   "outputs": [],
   "source": [
    "bw_map = {\n",
    "    10: {\n",
    "        'P0700': 'UNK',\n",
    "        'P0701': '<500',\n",
    "        'P0702': '500-749',\n",
    "        'P0703': '750-999',\n",
    "        'P0710': 'UNK',\n",
    "        'P0714': '1000-1249',\n",
    "        'P0715': '1250-1499',\n",
    "        'P0716': '1500-1749',\n",
    "        'P0717': '1750-1999',\n",
    "        'P0718': '2000-2499',\n",
    "    },\n",
    "    9: {\n",
    "        '76500': 'UNK',\n",
    "        '76501': '<500',\n",
    "        '76502': '500-749',\n",
    "        '76503': '750-999',\n",
    "        '76504': '1000-1249',\n",
    "        '76505': '1250-1499',\n",
    "        '76506': '1500-1749',\n",
    "        '76507': '1750-1999',\n",
    "        '76508': '2000-2499',\n",
    "        '76509': '>2500',\n",
    "        '76510': 'UNK',\n",
    "        '76500': 'UNK',\n",
    "        '76511': '<500',\n",
    "        '76512': '500-749',\n",
    "        '76513': '750-999',\n",
    "        '76514': '1000-1249',\n",
    "        '76515': '1250-1499',\n",
    "        '76516': '1500-1749',\n",
    "        '76517': '1750-1999',\n",
    "        '76518': '2000-2499',\n",
    "        '76519': '>2500',\n",
    "    }\n",
    "}"
   ]
  },
  {
   "cell_type": "code",
   "execution_count": 115,
   "id": "b572df2e-a13d-43f4-bcf2-b42bf8b44028",
   "metadata": {},
   "outputs": [],
   "source": [
    "def map_to_df(mapping, feature):\n",
    "    rows = [(version, codes, category) for version, codes in mapping.items() for code, category in codes.items()]\n",
    "    return pd.DataFrame(rows, columns=['icd_version', 'icd_code', feature])\n",
    "\n",
    "ga_df = flatten_map(ga_map, 'ga')\n",
    "bw_df = flatten_map(bw_map, 'bw')"
   ]
  },
  {
   "cell_type": "code",
   "execution_count": 150,
   "id": "1dce293c-d575-4671-bff1-91f9797c5c05",
   "metadata": {},
   "outputs": [],
   "source": [
    "ga_diagnoses = premature_diagnoses.merge(ga_df, on=['icd_version', 'icd_code'], how='left')\n",
    "bw_diagnoses = premature_diagnoses.merge(bw_df, on=['icd_version', 'icd_code'], how='left')"
   ]
  },
  {
   "cell_type": "code",
   "execution_count": 153,
   "id": "3ed89557-f6f2-4df9-b7f0-24c2aca992be",
   "metadata": {},
   "outputs": [
    {
     "data": {
      "text/html": [
       "<div>\n",
       "<style scoped>\n",
       "    .dataframe tbody tr th:only-of-type {\n",
       "        vertical-align: middle;\n",
       "    }\n",
       "\n",
       "    .dataframe tbody tr th {\n",
       "        vertical-align: top;\n",
       "    }\n",
       "\n",
       "    .dataframe thead th {\n",
       "        text-align: right;\n",
       "    }\n",
       "</style>\n",
       "<table border=\"1\" class=\"dataframe\">\n",
       "  <thead>\n",
       "    <tr style=\"text-align: right;\">\n",
       "      <th></th>\n",
       "      <th>subject_id</th>\n",
       "      <th>hadm_id</th>\n",
       "      <th>seq_num</th>\n",
       "      <th>icd_code</th>\n",
       "      <th>icd_version</th>\n",
       "      <th>long_title</th>\n",
       "      <th>ga</th>\n",
       "    </tr>\n",
       "  </thead>\n",
       "  <tbody>\n",
       "    <tr>\n",
       "      <th>0</th>\n",
       "      <td>16379677</td>\n",
       "      <td>26705919</td>\n",
       "      <td>4</td>\n",
       "      <td>76528</td>\n",
       "      <td>9</td>\n",
       "      <td>35-36 completed weeks of gestation</td>\n",
       "      <td>35-36</td>\n",
       "    </tr>\n",
       "    <tr>\n",
       "      <th>1</th>\n",
       "      <td>16379677</td>\n",
       "      <td>26705919</td>\n",
       "      <td>3</td>\n",
       "      <td>76519</td>\n",
       "      <td>9</td>\n",
       "      <td>Other preterm infants, 2,500 grams and over</td>\n",
       "      <td>NaN</td>\n",
       "    </tr>\n",
       "    <tr>\n",
       "      <th>2</th>\n",
       "      <td>11790756</td>\n",
       "      <td>20676162</td>\n",
       "      <td>8</td>\n",
       "      <td>76525</td>\n",
       "      <td>9</td>\n",
       "      <td>29-30 completed weeks of gestation</td>\n",
       "      <td>29-30</td>\n",
       "    </tr>\n",
       "    <tr>\n",
       "      <th>3</th>\n",
       "      <td>11790756</td>\n",
       "      <td>20676162</td>\n",
       "      <td>2</td>\n",
       "      <td>76514</td>\n",
       "      <td>9</td>\n",
       "      <td>Other preterm infants, 1,000-1,249 grams</td>\n",
       "      <td>NaN</td>\n",
       "    </tr>\n",
       "    <tr>\n",
       "      <th>4</th>\n",
       "      <td>10872148</td>\n",
       "      <td>25400583</td>\n",
       "      <td>2</td>\n",
       "      <td>76503</td>\n",
       "      <td>9</td>\n",
       "      <td>Extreme immaturity, 750-999 grams</td>\n",
       "      <td>NaN</td>\n",
       "    </tr>\n",
       "    <tr>\n",
       "      <th>...</th>\n",
       "      <td>...</td>\n",
       "      <td>...</td>\n",
       "      <td>...</td>\n",
       "      <td>...</td>\n",
       "      <td>...</td>\n",
       "      <td>...</td>\n",
       "      <td>...</td>\n",
       "    </tr>\n",
       "    <tr>\n",
       "      <th>15832</th>\n",
       "      <td>16872729</td>\n",
       "      <td>29905503</td>\n",
       "      <td>2</td>\n",
       "      <td>P0739</td>\n",
       "      <td>10</td>\n",
       "      <td>Preterm newborn, gestational age 36 completed ...</td>\n",
       "      <td>35-36</td>\n",
       "    </tr>\n",
       "    <tr>\n",
       "      <th>15833</th>\n",
       "      <td>14659176</td>\n",
       "      <td>21162467</td>\n",
       "      <td>3</td>\n",
       "      <td>P0721</td>\n",
       "      <td>10</td>\n",
       "      <td>Extreme immaturity of newborn, gestational age...</td>\n",
       "      <td>&lt;23</td>\n",
       "    </tr>\n",
       "    <tr>\n",
       "      <th>15834</th>\n",
       "      <td>14659176</td>\n",
       "      <td>21162467</td>\n",
       "      <td>2</td>\n",
       "      <td>P0702</td>\n",
       "      <td>10</td>\n",
       "      <td>Extremely low birth weight newborn, 500-749 grams</td>\n",
       "      <td>NaN</td>\n",
       "    </tr>\n",
       "    <tr>\n",
       "      <th>15835</th>\n",
       "      <td>14752105</td>\n",
       "      <td>29466543</td>\n",
       "      <td>2</td>\n",
       "      <td>P0701</td>\n",
       "      <td>10</td>\n",
       "      <td>Extremely low birth weight newborn, less than ...</td>\n",
       "      <td>NaN</td>\n",
       "    </tr>\n",
       "    <tr>\n",
       "      <th>15836</th>\n",
       "      <td>14752105</td>\n",
       "      <td>29466543</td>\n",
       "      <td>3</td>\n",
       "      <td>P0721</td>\n",
       "      <td>10</td>\n",
       "      <td>Extreme immaturity of newborn, gestational age...</td>\n",
       "      <td>&lt;23</td>\n",
       "    </tr>\n",
       "  </tbody>\n",
       "</table>\n",
       "<p>15837 rows × 7 columns</p>\n",
       "</div>"
      ],
      "text/plain": [
       "       subject_id   hadm_id  seq_num icd_code  icd_version  \\\n",
       "0        16379677  26705919        4    76528            9   \n",
       "1        16379677  26705919        3    76519            9   \n",
       "2        11790756  20676162        8    76525            9   \n",
       "3        11790756  20676162        2    76514            9   \n",
       "4        10872148  25400583        2    76503            9   \n",
       "...           ...       ...      ...      ...          ...   \n",
       "15832    16872729  29905503        2    P0739           10   \n",
       "15833    14659176  21162467        3    P0721           10   \n",
       "15834    14659176  21162467        2    P0702           10   \n",
       "15835    14752105  29466543        2    P0701           10   \n",
       "15836    14752105  29466543        3    P0721           10   \n",
       "\n",
       "                                              long_title     ga  \n",
       "0                     35-36 completed weeks of gestation  35-36  \n",
       "1            Other preterm infants, 2,500 grams and over    NaN  \n",
       "2                     29-30 completed weeks of gestation  29-30  \n",
       "3               Other preterm infants, 1,000-1,249 grams    NaN  \n",
       "4                      Extreme immaturity, 750-999 grams    NaN  \n",
       "...                                                  ...    ...  \n",
       "15832  Preterm newborn, gestational age 36 completed ...  35-36  \n",
       "15833  Extreme immaturity of newborn, gestational age...    <23  \n",
       "15834  Extremely low birth weight newborn, 500-749 grams    NaN  \n",
       "15835  Extremely low birth weight newborn, less than ...    NaN  \n",
       "15836  Extreme immaturity of newborn, gestational age...    <23  \n",
       "\n",
       "[15837 rows x 7 columns]"
      ]
     },
     "execution_count": 153,
     "metadata": {},
     "output_type": "execute_result"
    }
   ],
   "source": []
  },
  {
   "cell_type": "code",
   "execution_count": 151,
   "id": "7cf7d959-3c71-473c-883e-996064aa6857",
   "metadata": {},
   "outputs": [],
   "source": [
    "ga_bw_diagnoses = pd.concat([\n",
    "    ga_diagnoses[['subject_id', 'ga']],\n",
    "    bw_diagnoses[['subject_id', 'bw']]\n",
    "])"
   ]
  },
  {
   "cell_type": "code",
   "execution_count": 152,
   "id": "060fc148-ac97-49c9-9cb0-6b92e3f5a9e5",
   "metadata": {},
   "outputs": [
    {
     "data": {
      "text/html": [
       "<div>\n",
       "<style scoped>\n",
       "    .dataframe tbody tr th:only-of-type {\n",
       "        vertical-align: middle;\n",
       "    }\n",
       "\n",
       "    .dataframe tbody tr th {\n",
       "        vertical-align: top;\n",
       "    }\n",
       "\n",
       "    .dataframe thead th {\n",
       "        text-align: right;\n",
       "    }\n",
       "</style>\n",
       "<table border=\"1\" class=\"dataframe\">\n",
       "  <thead>\n",
       "    <tr style=\"text-align: right;\">\n",
       "      <th></th>\n",
       "      <th>subject_id</th>\n",
       "      <th>ga</th>\n",
       "      <th>bw</th>\n",
       "    </tr>\n",
       "  </thead>\n",
       "  <tbody>\n",
       "    <tr>\n",
       "      <th>0</th>\n",
       "      <td>10002179</td>\n",
       "      <td>35-36</td>\n",
       "      <td>&gt;2500</td>\n",
       "    </tr>\n",
       "    <tr>\n",
       "      <th>1</th>\n",
       "      <td>10005213</td>\n",
       "      <td>33-34</td>\n",
       "      <td>2000-2499</td>\n",
       "    </tr>\n",
       "    <tr>\n",
       "      <th>2</th>\n",
       "      <td>10005325</td>\n",
       "      <td>33-34</td>\n",
       "      <td>&gt;2500</td>\n",
       "    </tr>\n",
       "    <tr>\n",
       "      <th>3</th>\n",
       "      <td>10005967</td>\n",
       "      <td>33-34</td>\n",
       "      <td>1500-1749</td>\n",
       "    </tr>\n",
       "    <tr>\n",
       "      <th>4</th>\n",
       "      <td>10006516</td>\n",
       "      <td>31-32</td>\n",
       "      <td>1500-1749</td>\n",
       "    </tr>\n",
       "  </tbody>\n",
       "</table>\n",
       "</div>"
      ],
      "text/plain": [
       "   subject_id     ga         bw\n",
       "0    10002179  35-36      >2500\n",
       "1    10005213  33-34  2000-2499\n",
       "2    10005325  33-34      >2500\n",
       "3    10005967  33-34  1500-1749\n",
       "4    10006516  31-32  1500-1749"
      ]
     },
     "execution_count": 152,
     "metadata": {},
     "output_type": "execute_result"
    }
   ],
   "source": [
    "ga_bw_patients = ga_bw_diagnoses.groupby('subject_id', as_index=False).agg({'ga': 'first', 'bw': 'first'})\n",
    "ga_bw_patients.head()"
   ]
  },
  {
   "cell_type": "code",
   "execution_count": 143,
   "id": "e478a012-0bab-49c9-820a-59170d861bc5",
   "metadata": {},
   "outputs": [
    {
     "data": {
      "text/plain": [
       "bw\n",
       "NA           5251\n",
       "2000-2499    1154\n",
       ">2500         858\n",
       "1750-1999     426\n",
       "1500-1749     315\n",
       "1250-1499     228\n",
       "1000-1249     165\n",
       "750-999       122\n",
       "500-749       111\n",
       "<500           44\n",
       "UNK             5\n",
       "Name: count, dtype: int64"
      ]
     },
     "execution_count": 143,
     "metadata": {},
     "output_type": "execute_result"
    }
   ],
   "source": [
    "ga_bw_patients['bw'].value_counts()"
   ]
  },
  {
   "cell_type": "code",
   "execution_count": 129,
   "id": "6581365d-0fd8-424e-a096-8cae2c3f8203",
   "metadata": {},
   "outputs": [
    {
     "data": {
      "text/html": [
       "<div>\n",
       "<style scoped>\n",
       "    .dataframe tbody tr th:only-of-type {\n",
       "        vertical-align: middle;\n",
       "    }\n",
       "\n",
       "    .dataframe tbody tr th {\n",
       "        vertical-align: top;\n",
       "    }\n",
       "\n",
       "    .dataframe thead th {\n",
       "        text-align: right;\n",
       "    }\n",
       "</style>\n",
       "<table border=\"1\" class=\"dataframe\">\n",
       "  <thead>\n",
       "    <tr style=\"text-align: right;\">\n",
       "      <th></th>\n",
       "      <th>subject_id</th>\n",
       "      <th>gender</th>\n",
       "      <th>anchor_age</th>\n",
       "      <th>anchor_year</th>\n",
       "      <th>anchor_year_group</th>\n",
       "      <th>dod</th>\n",
       "      <th>hadm_id</th>\n",
       "      <th>admittime</th>\n",
       "      <th>dischtime</th>\n",
       "      <th>deathtime</th>\n",
       "      <th>...</th>\n",
       "      <th>edouttime</th>\n",
       "      <th>hospital_expire_flag</th>\n",
       "      <th>transfer_id</th>\n",
       "      <th>eventtype</th>\n",
       "      <th>careunit</th>\n",
       "      <th>intime</th>\n",
       "      <th>outtime</th>\n",
       "      <th>nicu_admit_diff</th>\n",
       "      <th>ga</th>\n",
       "      <th>bw</th>\n",
       "    </tr>\n",
       "  </thead>\n",
       "  <tbody>\n",
       "    <tr>\n",
       "      <th>0</th>\n",
       "      <td>10005325</td>\n",
       "      <td>F</td>\n",
       "      <td>0</td>\n",
       "      <td>2154</td>\n",
       "      <td>2011 - 2013</td>\n",
       "      <td>NaN</td>\n",
       "      <td>20047480</td>\n",
       "      <td>2154-12-15 14:10:00</td>\n",
       "      <td>2154-12-21 11:10:00</td>\n",
       "      <td>NaN</td>\n",
       "      <td>...</td>\n",
       "      <td>NaN</td>\n",
       "      <td>0</td>\n",
       "      <td>39663534</td>\n",
       "      <td>admit</td>\n",
       "      <td>Neonatal Intensive Care Unit (NICU)</td>\n",
       "      <td>2154-12-15 14:23:12</td>\n",
       "      <td>2154-12-15 14:28:49</td>\n",
       "      <td>0.220000</td>\n",
       "      <td>33-34</td>\n",
       "      <td>NA</td>\n",
       "    </tr>\n",
       "    <tr>\n",
       "      <th>1</th>\n",
       "      <td>10012663</td>\n",
       "      <td>F</td>\n",
       "      <td>0</td>\n",
       "      <td>2171</td>\n",
       "      <td>2011 - 2013</td>\n",
       "      <td>NaN</td>\n",
       "      <td>27340067</td>\n",
       "      <td>2171-05-18 10:54:00</td>\n",
       "      <td>2171-07-21 15:30:00</td>\n",
       "      <td>NaN</td>\n",
       "      <td>...</td>\n",
       "      <td>NaN</td>\n",
       "      <td>0</td>\n",
       "      <td>39415613</td>\n",
       "      <td>admit</td>\n",
       "      <td>Neonatal Intensive Care Unit (NICU)</td>\n",
       "      <td>2171-05-18 11:05:04</td>\n",
       "      <td>2171-05-18 11:14:30</td>\n",
       "      <td>0.184444</td>\n",
       "      <td>NA</td>\n",
       "      <td>750-999</td>\n",
       "    </tr>\n",
       "    <tr>\n",
       "      <th>2</th>\n",
       "      <td>10014536</td>\n",
       "      <td>F</td>\n",
       "      <td>0</td>\n",
       "      <td>2113</td>\n",
       "      <td>2008 - 2010</td>\n",
       "      <td>NaN</td>\n",
       "      <td>24693529</td>\n",
       "      <td>2113-12-19 17:55:00</td>\n",
       "      <td>2114-01-07 14:50:00</td>\n",
       "      <td>NaN</td>\n",
       "      <td>...</td>\n",
       "      <td>NaN</td>\n",
       "      <td>0</td>\n",
       "      <td>37628162</td>\n",
       "      <td>admit</td>\n",
       "      <td>Neonatal Intensive Care Unit (NICU)</td>\n",
       "      <td>2113-12-19 18:19:41</td>\n",
       "      <td>2113-12-19 18:23:09</td>\n",
       "      <td>0.411389</td>\n",
       "      <td>31-32</td>\n",
       "      <td>NA</td>\n",
       "    </tr>\n",
       "    <tr>\n",
       "      <th>3</th>\n",
       "      <td>10018724</td>\n",
       "      <td>F</td>\n",
       "      <td>0</td>\n",
       "      <td>2124</td>\n",
       "      <td>2008 - 2010</td>\n",
       "      <td>NaN</td>\n",
       "      <td>23693746</td>\n",
       "      <td>2124-07-10 08:29:00</td>\n",
       "      <td>2124-07-14 15:30:00</td>\n",
       "      <td>NaN</td>\n",
       "      <td>...</td>\n",
       "      <td>NaN</td>\n",
       "      <td>0</td>\n",
       "      <td>33051949</td>\n",
       "      <td>transfer</td>\n",
       "      <td>Neonatal Intensive Care Unit (NICU)</td>\n",
       "      <td>2124-07-10 13:30:56</td>\n",
       "      <td>2124-07-13 00:49:19</td>\n",
       "      <td>5.032222</td>\n",
       "      <td>NA</td>\n",
       "      <td>&gt;2500</td>\n",
       "    </tr>\n",
       "    <tr>\n",
       "      <th>4</th>\n",
       "      <td>10025785</td>\n",
       "      <td>F</td>\n",
       "      <td>0</td>\n",
       "      <td>2155</td>\n",
       "      <td>2008 - 2010</td>\n",
       "      <td>NaN</td>\n",
       "      <td>27677536</td>\n",
       "      <td>2155-06-14 18:37:00</td>\n",
       "      <td>2155-07-09 14:10:00</td>\n",
       "      <td>NaN</td>\n",
       "      <td>...</td>\n",
       "      <td>NaN</td>\n",
       "      <td>0</td>\n",
       "      <td>36967998</td>\n",
       "      <td>admit</td>\n",
       "      <td>Neonatal Intensive Care Unit (NICU)</td>\n",
       "      <td>2155-06-14 18:58:56</td>\n",
       "      <td>2155-06-14 19:00:26</td>\n",
       "      <td>0.365556</td>\n",
       "      <td>31-32</td>\n",
       "      <td>NA</td>\n",
       "    </tr>\n",
       "  </tbody>\n",
       "</table>\n",
       "<p>5 rows × 28 columns</p>\n",
       "</div>"
      ],
      "text/plain": [
       "   subject_id gender  anchor_age  anchor_year anchor_year_group  dod  \\\n",
       "0    10005325      F           0         2154       2011 - 2013  NaN   \n",
       "1    10012663      F           0         2171       2011 - 2013  NaN   \n",
       "2    10014536      F           0         2113       2008 - 2010  NaN   \n",
       "3    10018724      F           0         2124       2008 - 2010  NaN   \n",
       "4    10025785      F           0         2155       2008 - 2010  NaN   \n",
       "\n",
       "    hadm_id            admittime            dischtime deathtime  ...  \\\n",
       "0  20047480  2154-12-15 14:10:00  2154-12-21 11:10:00       NaN  ...   \n",
       "1  27340067  2171-05-18 10:54:00  2171-07-21 15:30:00       NaN  ...   \n",
       "2  24693529  2113-12-19 17:55:00  2114-01-07 14:50:00       NaN  ...   \n",
       "3  23693746  2124-07-10 08:29:00  2124-07-14 15:30:00       NaN  ...   \n",
       "4  27677536  2155-06-14 18:37:00  2155-07-09 14:10:00       NaN  ...   \n",
       "\n",
       "  edouttime hospital_expire_flag transfer_id eventtype  \\\n",
       "0       NaN                    0    39663534     admit   \n",
       "1       NaN                    0    39415613     admit   \n",
       "2       NaN                    0    37628162     admit   \n",
       "3       NaN                    0    33051949  transfer   \n",
       "4       NaN                    0    36967998     admit   \n",
       "\n",
       "                              careunit               intime  \\\n",
       "0  Neonatal Intensive Care Unit (NICU)  2154-12-15 14:23:12   \n",
       "1  Neonatal Intensive Care Unit (NICU)  2171-05-18 11:05:04   \n",
       "2  Neonatal Intensive Care Unit (NICU)  2113-12-19 18:19:41   \n",
       "3  Neonatal Intensive Care Unit (NICU)  2124-07-10 13:30:56   \n",
       "4  Neonatal Intensive Care Unit (NICU)  2155-06-14 18:58:56   \n",
       "\n",
       "               outtime nicu_admit_diff     ga       bw  \n",
       "0  2154-12-15 14:28:49        0.220000  33-34       NA  \n",
       "1  2171-05-18 11:14:30        0.184444     NA  750-999  \n",
       "2  2113-12-19 18:23:09        0.411389  31-32       NA  \n",
       "3  2124-07-13 00:49:19        5.032222     NA    >2500  \n",
       "4  2155-06-14 19:00:26        0.365556  31-32       NA  \n",
       "\n",
       "[5 rows x 28 columns]"
      ]
     },
     "execution_count": 129,
     "metadata": {},
     "output_type": "execute_result"
    }
   ],
   "source": [
    "final_cohort_ga_bw = final_cohort.merge(ga_bw_patients, on='subject_id', how='inner')\n",
    "final_cohort_ga_bw.head()"
   ]
  },
  {
   "cell_type": "code",
   "execution_count": 141,
   "id": "073be3e2-745f-462a-848b-a87f72c3aa61",
   "metadata": {},
   "outputs": [
    {
     "data": {
      "image/png": "[encoded data removed]",
      "text/plain": [
       "<Figure size 1000x500 with 1 Axes>"
      ]
     },
     "metadata": {},
     "output_type": "display_data"
    }
   ],
   "source": [
    "f = plt.figure()\n",
    "f.set_figwidth(10)\n",
    "f.set_figheight(5)\n",
    "plt.hist(final_cohort_ga_bw['ga'], edgecolor='black', bins=len(final_cohort_ga_bw['ga'].unique()))\n",
    "plt.show()"
   ]
  },
  {
   "cell_type": "code",
   "execution_count": 42,
   "id": "a32037bf-76ce-4ab8-95e2-2d8766a50c55",
   "metadata": {},
   "outputs": [],
   "source": [
    "dead_cohort = final_cohort[final_cohort['hospital_expire_flag'] == 1].copy()\n",
    "dead_cohort['death_nicu_diff'] = pd.to_datetime(dead_cohort['deathtime']).astype(int)/(10**9)/60/60 - pd.to_datetime(dead_cohort['intime']).astype(int)/(10**9)/60/60\n",
    "dead_cohort = dead_cohort[dead_cohort['death_nicu_diff'] >= 0]"
   ]
  },
  {
   "cell_type": "code",
   "execution_count": 38,
   "id": "f287054d-885e-4c55-9f55-692605a141f8",
   "metadata": {},
   "outputs": [],
   "source": [
    "dead_cohort = final_cohort[final_cohort['hospital_expire_flag'] == 1].copy()\n",
    "dead_cohort['death_admit_diff'] = pd.to_datetime(dead_cohort['deathtime']).astype(int)/(10**9)/60/60 - pd.to_datetime(dead_cohort['admittime']).astype(int)/(10**9)/60/60\n",
    "dead_cohort = dead_cohort[dead_cohort['death_admit_diff'] >= 0]"
   ]
  },
  {
   "cell_type": "code",
   "execution_count": 47,
   "id": "757e6851-f00b-4b60-b229-a164e89f62bd",
   "metadata": {},
   "outputs": [
    {
     "name": "stdout",
     "output_type": "stream",
     "text": [
      "0\n",
      "0.0\n"
     ]
    },
    {
     "data": {
      "image/png": "[encoded data removed]",
      "text/plain": [
       "<Figure size 640x480 with 1 Axes>"
      ]
     },
     "metadata": {},
     "output_type": "display_data"
    }
   ],
   "source": [
    "diff_key = 'nicu_admit_diff_days'\n",
    "thresh = 2\n",
    "print(len(dead_cohort[dead_cohort[diff_key] >= thresh]))\n",
    "print(len(dead_cohort[dead_cohort[diff_key] >= thresh])/len(dead_cohort))\n",
    "plt.hist(dead_cohort[dead_cohort[diff_key] < thresh][diff_key])\n",
    "plt.xlabel(\"Hours from first admission to death\")\n",
    "plt.show()"
   ]
  },
  {
   "cell_type": "code",
   "execution_count": 28,
   "id": "eb541cd5-be2d-4958-b10e-aee10a287c42",
   "metadata": {},
   "outputs": [
    {
     "data": {
      "image/png": "[encoded data removed]",
      "text/plain": [
       "<Figure size 640x480 with 1 Axes>"
      ]
     },
     "metadata": {},
     "output_type": "display_data"
    }
   ],
   "source": [
    "dead_cohort_flex = [len(dead_cohort[dead_cohort['death_nicu_diff'] >= t]) for t in range(25)]\n",
    "plt.bar(range(25), dead_cohort_flex)\n",
    "plt.xlabel(\"Threshold number of hours after first NICU admission\")\n",
    "plt.ylabel(\"Number of patients\")\n",
    "plt.title(\"Cohort size with varying time 0 thresholds\")\n",
    "plt.xticks(range(0,25,6))\n",
    "plt.show()"
   ]
  },
  {
   "cell_type": "code",
   "execution_count": null,
   "id": "82c73f46-d8fb-4024-a223-ba69608d6c49",
   "metadata": {},
   "outputs": [],
   "source": [
    "final_cohort_labs = final_cohort.merge(labs, "
   ]
  }
 ],
 "metadata": {
  "kernelspec": {
   "display_name": "Python 3 (ipykernel)",
   "language": "python",
   "name": "python3"
  },
  "language_info": {
   "codemirror_mode": {
    "name": "ipython",
    "version": 3
   },
   "file_extension": ".py",
   "mimetype": "text/x-python",
   "name": "python",
   "nbconvert_exporter": "python",
   "pygments_lexer": "ipython3",
   "version": "3.13.1"
  }
 },
 "nbformat": 4,
 "nbformat_minor": 5
}
