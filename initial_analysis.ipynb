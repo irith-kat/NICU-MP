{
 "cells": [
  {
   "cell_type": "code",
   "execution_count": 63,
   "id": "e8b6803c-0ea4-49da-82fc-068553eb7156",
   "metadata": {},
   "outputs": [],
   "source": [
    "import pandas as pd\n",
    "import numpy as np"
   ]
  },
  {
   "cell_type": "code",
   "execution_count": 77,
   "id": "c3c8245c-b47d-482b-b7cc-1bb890820e68",
   "metadata": {},
   "outputs": [],
   "source": [
    "data_dir = 'data/mimic-iv-1.0/physionet.org/files/mimiciv/1.0/'\n",
    "core = data_dir+'core/' \n",
    "hosp = data_dir+'hosp/'\n",
    "icu = data_dir+'icu/'"
   ]
  },
  {
   "cell_type": "code",
   "execution_count": 78,
   "id": "afcb08dd-b2e5-4b31-b471-2a652c12b6a9",
   "metadata": {},
   "outputs": [],
   "source": [
    "patients = pd.read_csv(core+'patients.csv')\n",
    "admissions = pd.read_csv(core+'admissions.csv')\n",
    "transfers = pd.read_csv(core+'transfers.csv')\n",
    "drgs = pd.read_csv(hosp+'drgcodes.csv')"
   ]
  },
  {
   "cell_type": "code",
   "execution_count": 79,
   "id": "bffcc63b-632b-4238-8385-ec90a7e84baf",
   "metadata": {},
   "outputs": [
    {
     "name": "stdout",
     "output_type": "stream",
     "text": [
      "Total neonates: 61628\n"
     ]
    }
   ],
   "source": [
    "neonates = admissions.merge(patients, on=\"subject_id\")\n",
    "neonates = neonates[neonates[\"anchor_age\"] == 0]\n",
    "print(f\"Total neonate admissions: {len(neonates)}\")"
   ]
  },
  {
   "cell_type": "code",
   "execution_count": 81,
   "id": "718a6c24-cb82-45a6-ac6d-38fd71435e39",
   "metadata": {},
   "outputs": [
    {
     "name": "stdout",
     "output_type": "stream",
     "text": [
      "Total NICU transfers: 29363\n"
     ]
    },
    {
     "data": {
      "text/html": [
       "<div>\n",
       "<style scoped>\n",
       "    .dataframe tbody tr th:only-of-type {\n",
       "        vertical-align: middle;\n",
       "    }\n",
       "\n",
       "    .dataframe tbody tr th {\n",
       "        vertical-align: top;\n",
       "    }\n",
       "\n",
       "    .dataframe thead th {\n",
       "        text-align: right;\n",
       "    }\n",
       "</style>\n",
       "<table border=\"1\" class=\"dataframe\">\n",
       "  <thead>\n",
       "    <tr style=\"text-align: right;\">\n",
       "      <th></th>\n",
       "      <th>subject_id</th>\n",
       "      <th>hadm_id</th>\n",
       "      <th>transfer_id</th>\n",
       "      <th>eventtype</th>\n",
       "      <th>careunit</th>\n",
       "      <th>intime</th>\n",
       "      <th>outtime</th>\n",
       "    </tr>\n",
       "  </thead>\n",
       "  <tbody>\n",
       "    <tr>\n",
       "      <th>73784</th>\n",
       "      <td>14312010</td>\n",
       "      <td>29997871.0</td>\n",
       "      <td>32892824</td>\n",
       "      <td>admit</td>\n",
       "      <td>Neonatal Intensive Care Unit (NICU)</td>\n",
       "      <td>2118-10-25 02:07:31</td>\n",
       "      <td>2118-10-25 04:14:02</td>\n",
       "    </tr>\n",
       "    <tr>\n",
       "      <th>73786</th>\n",
       "      <td>14312010</td>\n",
       "      <td>29997871.0</td>\n",
       "      <td>30037787</td>\n",
       "      <td>transfer</td>\n",
       "      <td>Neonatal Intensive Care Unit (NICU)</td>\n",
       "      <td>2118-10-25 04:14:02</td>\n",
       "      <td>2118-10-25 04:50:33</td>\n",
       "    </tr>\n",
       "    <tr>\n",
       "      <th>73789</th>\n",
       "      <td>15023067</td>\n",
       "      <td>27017665.0</td>\n",
       "      <td>30129282</td>\n",
       "      <td>transfer</td>\n",
       "      <td>Neonatal Intensive Care Unit (NICU)</td>\n",
       "      <td>2127-11-27 05:28:31</td>\n",
       "      <td>2127-11-27 06:21:38</td>\n",
       "    </tr>\n",
       "    <tr>\n",
       "      <th>73790</th>\n",
       "      <td>15023067</td>\n",
       "      <td>27017665.0</td>\n",
       "      <td>35738088</td>\n",
       "      <td>transfer</td>\n",
       "      <td>Neonatal Intensive Care Unit (NICU)</td>\n",
       "      <td>2127-11-27 06:21:38</td>\n",
       "      <td>2127-11-27 07:41:44</td>\n",
       "    </tr>\n",
       "    <tr>\n",
       "      <th>73804</th>\n",
       "      <td>19197569</td>\n",
       "      <td>29780270.0</td>\n",
       "      <td>39194191</td>\n",
       "      <td>transfer</td>\n",
       "      <td>Neonatal Intensive Care Unit (NICU)</td>\n",
       "      <td>2185-04-01 01:22:57</td>\n",
       "      <td>2185-04-01 02:32:02</td>\n",
       "    </tr>\n",
       "    <tr>\n",
       "      <th>...</th>\n",
       "      <td>...</td>\n",
       "      <td>...</td>\n",
       "      <td>...</td>\n",
       "      <td>...</td>\n",
       "      <td>...</td>\n",
       "      <td>...</td>\n",
       "      <td>...</td>\n",
       "    </tr>\n",
       "    <tr>\n",
       "      <th>2132036</th>\n",
       "      <td>18064853</td>\n",
       "      <td>20512742.0</td>\n",
       "      <td>34898112</td>\n",
       "      <td>admit</td>\n",
       "      <td>Neonatal Intensive Care Unit (NICU)</td>\n",
       "      <td>2183-11-15 18:35:40</td>\n",
       "      <td>2183-11-15 19:41:53</td>\n",
       "    </tr>\n",
       "    <tr>\n",
       "      <th>2132256</th>\n",
       "      <td>12951316</td>\n",
       "      <td>21588163.0</td>\n",
       "      <td>34133788</td>\n",
       "      <td>transfer</td>\n",
       "      <td>Neonatal Intensive Care Unit (NICU)</td>\n",
       "      <td>2161-07-20 03:33:07</td>\n",
       "      <td>2161-07-20 04:20:23</td>\n",
       "    </tr>\n",
       "    <tr>\n",
       "      <th>2132299</th>\n",
       "      <td>12630902</td>\n",
       "      <td>23888754.0</td>\n",
       "      <td>36223364</td>\n",
       "      <td>transfer</td>\n",
       "      <td>Neonatal Intensive Care Unit (NICU)</td>\n",
       "      <td>2162-11-09 03:54:55</td>\n",
       "      <td>2162-11-09 04:07:06</td>\n",
       "    </tr>\n",
       "    <tr>\n",
       "      <th>2132357</th>\n",
       "      <td>13366767</td>\n",
       "      <td>26811822.0</td>\n",
       "      <td>36654815</td>\n",
       "      <td>transfer</td>\n",
       "      <td>Neonatal Intensive Care Unit (NICU)</td>\n",
       "      <td>2133-11-01 00:29:11</td>\n",
       "      <td>2133-11-01 03:24:32</td>\n",
       "    </tr>\n",
       "    <tr>\n",
       "      <th>2132364</th>\n",
       "      <td>15850293</td>\n",
       "      <td>21011852.0</td>\n",
       "      <td>32950362</td>\n",
       "      <td>admit</td>\n",
       "      <td>Neonatal Intensive Care Unit (NICU)</td>\n",
       "      <td>2129-11-30 10:48:31</td>\n",
       "      <td>2129-11-30 10:50:09</td>\n",
       "    </tr>\n",
       "  </tbody>\n",
       "</table>\n",
       "<p>29363 rows × 7 columns</p>\n",
       "</div>"
      ],
      "text/plain": [
       "         subject_id     hadm_id  transfer_id eventtype  \\\n",
       "73784      14312010  29997871.0     32892824     admit   \n",
       "73786      14312010  29997871.0     30037787  transfer   \n",
       "73789      15023067  27017665.0     30129282  transfer   \n",
       "73790      15023067  27017665.0     35738088  transfer   \n",
       "73804      19197569  29780270.0     39194191  transfer   \n",
       "...             ...         ...          ...       ...   \n",
       "2132036    18064853  20512742.0     34898112     admit   \n",
       "2132256    12951316  21588163.0     34133788  transfer   \n",
       "2132299    12630902  23888754.0     36223364  transfer   \n",
       "2132357    13366767  26811822.0     36654815  transfer   \n",
       "2132364    15850293  21011852.0     32950362     admit   \n",
       "\n",
       "                                    careunit               intime  \\\n",
       "73784    Neonatal Intensive Care Unit (NICU)  2118-10-25 02:07:31   \n",
       "73786    Neonatal Intensive Care Unit (NICU)  2118-10-25 04:14:02   \n",
       "73789    Neonatal Intensive Care Unit (NICU)  2127-11-27 05:28:31   \n",
       "73790    Neonatal Intensive Care Unit (NICU)  2127-11-27 06:21:38   \n",
       "73804    Neonatal Intensive Care Unit (NICU)  2185-04-01 01:22:57   \n",
       "...                                      ...                  ...   \n",
       "2132036  Neonatal Intensive Care Unit (NICU)  2183-11-15 18:35:40   \n",
       "2132256  Neonatal Intensive Care Unit (NICU)  2161-07-20 03:33:07   \n",
       "2132299  Neonatal Intensive Care Unit (NICU)  2162-11-09 03:54:55   \n",
       "2132357  Neonatal Intensive Care Unit (NICU)  2133-11-01 00:29:11   \n",
       "2132364  Neonatal Intensive Care Unit (NICU)  2129-11-30 10:48:31   \n",
       "\n",
       "                     outtime  \n",
       "73784    2118-10-25 04:14:02  \n",
       "73786    2118-10-25 04:50:33  \n",
       "73789    2127-11-27 06:21:38  \n",
       "73790    2127-11-27 07:41:44  \n",
       "73804    2185-04-01 02:32:02  \n",
       "...                      ...  \n",
       "2132036  2183-11-15 19:41:53  \n",
       "2132256  2161-07-20 04:20:23  \n",
       "2132299  2162-11-09 04:07:06  \n",
       "2132357  2133-11-01 03:24:32  \n",
       "2132364  2129-11-30 10:50:09  \n",
       "\n",
       "[29363 rows x 7 columns]"
      ]
     },
     "execution_count": 81,
     "metadata": {},
     "output_type": "execute_result"
    }
   ],
   "source": [
    "nicu_transfers = transfers[transfers['careunit'] == 'Neonatal Intensive Care Unit (NICU)']\n",
    "print(f\"Total NICU transfers: {len(nicu_transfers)}\")"
   ]
  },
  {
   "cell_type": "code",
   "execution_count": 88,
   "id": "8c1f2ec5-2cf3-4d25-904f-b69a47c20d4c",
   "metadata": {},
   "outputs": [
    {
     "name": "stdout",
     "output_type": "stream",
     "text": [
      "Neonates with NICU transfers: 7758\n"
     ]
    }
   ],
   "source": [
    "neonates_nicu = pd.merge(neonates, nicu_transfers, on=['subject_id', 'hadm_id'], how='inner')\n",
    "neonates_nicu = neonates_nicu[neonates_nicu['eventtype'] == 'admit']\n",
    "print(f\"Neonates with NICU transfers: {len(neonates_nicu)}\")"
   ]
  },
  {
   "cell_type": "code",
   "execution_count": 89,
   "id": "d2252773-ccc3-49b3-a652-50732d012e1d",
   "metadata": {},
   "outputs": [
    {
     "data": {
      "text/plain": [
       "hospital_expire_flag\n",
       "0    7617\n",
       "1     141\n",
       "Name: count, dtype: int64"
      ]
     },
     "execution_count": 89,
     "metadata": {},
     "output_type": "execute_result"
    }
   ],
   "source": [
    "neonates_nicu['hospital_expire_flag'].value_counts()"
   ]
  },
  {
   "cell_type": "code",
   "execution_count": 48,
   "id": "36504c4c-b1bb-4e93-8164-fe209d7ab4d3",
   "metadata": {},
   "outputs": [
    {
     "name": "stdout",
     "output_type": "stream",
     "text": [
      "Total premature: 4951\n"
     ]
    }
   ],
   "source": [
    "premature_drg_codes = [791, 792]\n",
    "premature_drg = drgs[drgs['drg_code'].isin(premature_drg_codes)]\n",
    "premature = pd.merge(patients, premature_drg, on=['subject_id'], how='inner')\n",
    "print(f\"Total premature: {len(premature)}\")"
   ]
  },
  {
   "cell_type": "code",
   "execution_count": 52,
   "id": "4c62d04e-f223-4ec2-b17b-d4e3e6d575f8",
   "metadata": {},
   "outputs": [
    {
     "data": {
      "text/plain": [
       "discharge_location\n",
       "HOME                        3038\n",
       "HOME HEALTH CARE            1861\n",
       "SKILLED NURSING FACILITY      25\n",
       "ACUTE HOSPITAL                 9\n",
       "HEALTHCARE FACILITY            7\n",
       "REHAB                          4\n",
       "AGAINST ADVICE                 1\n",
       "PSYCH FACILITY                 1\n",
       "HOSPICE                        1\n",
       "Name: count, dtype: int64"
      ]
     },
     "execution_count": 52,
     "metadata": {},
     "output_type": "execute_result"
    }
   ],
   "source": [
    "premature_mort = pd.merge(premature, admissions, on=['hadm_id'], how='inner')\n",
    "premature_mort['discharge_location'].value_counts()"
   ]
  },
  {
   "cell_type": "code",
   "execution_count": 61,
   "id": "165aaa25-011c-4264-8029-4e8e33941948",
   "metadata": {},
   "outputs": [],
   "source": [
    "neonate_mort = pd.merge(neonates, admissions, on=['subject_id'], how='inner')\n",
    "neonate_mort = neonate_mort[neonate_mort['hospital_expire_flag'] == 1]"
   ]
  },
  {
   "cell_type": "code",
   "execution_count": 62,
   "id": "7b48e2ff-f035-4097-b70e-b3766c744307",
   "metadata": {},
   "outputs": [
    {
     "data": {
      "text/plain": [
       "description\n",
       "NEONATES, DIED OR TRANSFERRED TO ANOTHER ACUTE CARE FACILITY                                                                          207\n",
       "NEONATE BWT < 500G, OR BWT 500-999G & GESTATIONAL AGE <24 WKS, OR BWT 500-749G W MAJOR ANOMALY OR W/O LIFE SUSTAINING INTERVENTION     76\n",
       "NEONATE BIRTHWT 500-749G W/O MAJOR PROCEDURE                                                                                           47\n",
       "NEONATE BIRTHWT 750-999G W/O MAJOR PROCEDURE                                                                                           17\n",
       "NEONATE BWT 2000-2499G W MAJOR ANOMALY                                                                                                 13\n",
       "NEONATE BWT 1000-1249G W RESP DIST SYND/OTH MAJ RESP OR MAJ ANOM                                                                       11\n",
       "NEONATE BIRTHWT >2499G W MAJOR ANOMALY                                                                                                  8\n",
       "NEONATE BIRTHWT 1500-1999G W MAJOR ANOMALY                                                                                              7\n",
       "NEONATE, BIRTHWT >2499G W RESP DIST SYND/OTH MAJ RESP COND                                                                              5\n",
       "NEONATE BWT <1500G W MAJOR PROCEDURE                                                                                                    5\n",
       "NEONATE BIRTHWT >2499G W OTHER SIGNIFICANT CONDITION                                                                                    4\n",
       "NEONATE BWT 1250-1499G W RESP DIST SYND/OTH MAJ RESP OR MAJ ANOM                                                                        4\n",
       "EXTREME IMMATURITY OR RESPIRATORY DISTRESS SYNDROME, NEONATE                                                                            3\n",
       "NEONATE BIRTHWT 1000-1249G W OR W/O OTHER SIGNIFICANT CONDITION                                                                         3\n",
       "NEONATE BWT 2000-2499G W RESP DIST SYND/OTH MAJ RESP COND                                                                               3\n",
       "NEONATE BIRTHWT >2499G, NORMAL NEWBORN OR NEONATE W OTHER PROBLEM                                                                       2\n",
       "NEONATE BWT 1250-1499G W OR W/O OTHER SIGNIFICANT CONDITION                                                                             1\n",
       "NEONATE BIRTHWT >2499G W CONGENITAL/PERINATAL INFECTION                                                                                 1\n",
       "NEONATE BWT 1500-1999G W RESP DIST SYND/OTH MAJ RESP COND                                                                               1\n",
       "NEONATE BWT 1500-1999G W OR W/O OTHER SIGNIFICANT CONDITION                                                                             1\n",
       "NEONATE BWT 2000-2499G W OTHER SIGNIFICANT CONDITION                                                                                    1\n",
       "Name: count, dtype: int64"
      ]
     },
     "execution_count": 62,
     "metadata": {},
     "output_type": "execute_result"
    }
   ],
   "source": [
    "neonate_mort_drg = pd.merge(neonate_mort, drgs, on=['hadm_id'], how='left')\n",
    "neonate_mort_drg['description'].value_counts()"
   ]
  },
  {
   "cell_type": "code",
   "execution_count": null,
   "id": "5d36abef-48db-4308-8af1-139e75207aae",
   "metadata": {},
   "outputs": [],
   "source": []
  }
 ],
 "metadata": {
  "kernelspec": {
   "display_name": "Python 3 (ipykernel)",
   "language": "python",
   "name": "python3"
  },
  "language_info": {
   "codemirror_mode": {
    "name": "ipython",
    "version": 3
   },
   "file_extension": ".py",
   "mimetype": "text/x-python",
   "name": "python",
   "nbconvert_exporter": "python",
   "pygments_lexer": "ipython3",
   "version": "3.13.7"
  }
 },
 "nbformat": 4,
 "nbformat_minor": 5
}
